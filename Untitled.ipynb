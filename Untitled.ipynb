{
 "cells": [
  {
   "cell_type": "code",
   "execution_count": 7,
   "id": "213f2a56",
   "metadata": {},
   "outputs": [],
   "source": [
    "list_ATAC_met=[]\n",
    "with open(\"data/maize_282.v8.3.scATAC_ALL_CELLs.metadata_reference.txt\", \"r\") as r2:\n",
    "    for lines in r2:\n",
    "        #print(lines)\n",
    "        list_ATAC_met+=[lines.split(\"\\t\")[-3].strip(\"\\n\")]"
   ]
  },
  {
   "cell_type": "code",
   "execution_count": 16,
   "id": "e4b7dff1",
   "metadata": {},
   "outputs": [],
   "source": [
    "list_RNA_met=[]\n",
    "with open(\"data/maize_leaf_harmony_integrated.v3.subLEIDEN.metadata.txt\", \"r\") as r2:\n",
    "    #count=0\n",
    "    for lines in r2:\n",
    "        #count+=1\n",
    "        #print(lines)\n",
    "        list_RNA_met+=[lines.split(\"\\t\")[-2].strip(\"\\n\")]"
   ]
  },
  {
   "cell_type": "code",
   "execution_count": 19,
   "id": "a19a0a80",
   "metadata": {},
   "outputs": [],
   "source": [
    "#print(list_ATAC_met[1::])\n",
    "dict_ATAC={}\n",
    "for item in list_ATAC_met:\n",
    "    if item in dict_ATAC:\n",
    "        dict_ATAC[item]+=1\n",
    "    if item not in dict_ATAC:\n",
    "        dict_ATAC[item]=0"
   ]
  },
  {
   "cell_type": "code",
   "execution_count": 20,
   "id": "7d3a76a9",
   "metadata": {},
   "outputs": [],
   "source": [
    "#print(list_RNA_met[1::])\n",
    "dict_RNA={}\n",
    "for item in list_RNA_met:\n",
    "    if item in dict_RNA:\n",
    "        dict_RNA[item]+=1\n",
    "    if item not in dict_RNA:\n",
    "        dict_RNA[item]=0"
   ]
  },
  {
   "cell_type": "code",
   "execution_count": 21,
   "id": "90348658",
   "metadata": {},
   "outputs": [
    {
     "data": {
      "text/plain": [
       "{'celltype': 0,\n",
       " 'hypodermal_sclerenchyma': 6663,\n",
       " 'cortex': 3401,\n",
       " 'mesophyll': 4824,\n",
       " 'bundle_sheath': 4102,\n",
       " 'ground_meristem': 8065,\n",
       " 'cortex/parenchyma': 2156,\n",
       " 'protophloem_SE': 4650,\n",
       " 'xylem': 2771,\n",
       " 'xylem_parenchyma': 2801,\n",
       " 'dividing_leaf_primordia': 4351,\n",
       " 'subsidiary_cells': 3710,\n",
       " 'pavement_cell': 8156,\n",
       " 'companion_cell': 1812,\n",
       " 'phloem_SE_procambial_precursors': 3391,\n",
       " 'leaf_primordia/cortex': 2198,\n",
       " 'early_xylem_parenchyma': 2601,\n",
       " 'phloem_parenchyma': 1936,\n",
       " 'procambial_meristem': 2529,\n",
       " 'lignified_bundle_sheath': 1540,\n",
       " 'lateral_organ_primordia': 2954,\n",
       " 'rib_meristem_SAM': 1563,\n",
       " 'axillary_meristem': 2739,\n",
       " 'unknown': 93,\n",
       " 'guard_cell': 1584,\n",
       " 'undifferentiate_parenchyma': 1634,\n",
       " 'meristematic_parenchyma': 33}"
      ]
     },
     "execution_count": 21,
     "metadata": {},
     "output_type": "execute_result"
    }
   ],
   "source": [
    "dict_ATAC"
   ]
  },
  {
   "cell_type": "code",
   "execution_count": 22,
   "id": "97fe8ab7",
   "metadata": {},
   "outputs": [
    {
     "data": {
      "text/plain": [
       "{'celltype_full': 0,\n",
       " 'undifferentiated_parenchyma': 2982,\n",
       " 'hypodermal_sclerenchyma': 1231,\n",
       " 'leaf_primordia': 279,\n",
       " 'protophloem_SE': 411,\n",
       " 'cortex': 3125,\n",
       " 'xylem': 492,\n",
       " 'xylem_parenchyma': 1801,\n",
       " 'pith_parenchyma': 297,\n",
       " 'bulliform_cells': 717,\n",
       " 'bundle_sheath': 2075,\n",
       " 'pavement_cell': 1792,\n",
       " 'ground_meristem': 2475,\n",
       " 'protodermal_cell': 676,\n",
       " 'subsidiary_cell': 344,\n",
       " 'abaxial_bundle_sheath': 546,\n",
       " 'procambial_meristem': 1899,\n",
       " 'phloem_companion_cells': 676,\n",
       " 'axillary_meristem': 1431,\n",
       " 'L1_leaf_primordia': 230,\n",
       " 'phloem_parenchyma': 949,\n",
       " 'adaxial_leaf_primordia': 993,\n",
       " 'mesophyll': 1439,\n",
       " 'guard_cells': 377,\n",
       " 'phloem_SE_procambial_precursors': 759,\n",
       " 'xylem_precursors': 652,\n",
       " 'vascular_leaf_primordia': 173,\n",
       " 'vascular_parenchyma': 1457}"
      ]
     },
     "execution_count": 22,
     "metadata": {},
     "output_type": "execute_result"
    }
   ],
   "source": [
    "dict_RNA"
   ]
  },
  {
   "cell_type": "code",
   "execution_count": null,
   "id": "c59c867d",
   "metadata": {},
   "outputs": [],
   "source": []
  }
 ],
 "metadata": {
  "kernelspec": {
   "display_name": "Python 3 (ipykernel)",
   "language": "python",
   "name": "python3"
  },
  "language_info": {
   "codemirror_mode": {
    "name": "ipython",
    "version": 3
   },
   "file_extension": ".py",
   "mimetype": "text/x-python",
   "name": "python",
   "nbconvert_exporter": "python",
   "pygments_lexer": "ipython3",
   "version": "3.9.13"
  }
 },
 "nbformat": 4,
 "nbformat_minor": 5
}
