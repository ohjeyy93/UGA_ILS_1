{
 "cells": [
  {
   "cell_type": "code",
   "execution_count": 1,
   "id": "72346175",
   "metadata": {},
   "outputs": [
    {
     "data": {
      "text/html": [
       "34408"
      ],
      "text/latex": [
       "34408"
      ],
      "text/markdown": [
       "34408"
      ],
      "text/plain": [
       "[1] 34408"
      ]
     },
     "metadata": {},
     "output_type": "display_data"
    },
    {
     "data": {
      "text/html": [
       "<style>\n",
       ".list-inline {list-style: none; margin:0; padding: 0}\n",
       ".list-inline>li {display: inline-block}\n",
       ".list-inline>li:not(:last-child)::after {content: \"\\00b7\"; padding: 0 .5ex}\n",
       "</style>\n",
       "<ol class=list-inline><li>30305</li><li>8000</li></ol>\n"
      ],
      "text/latex": [
       "\\begin{enumerate*}\n",
       "\\item 30305\n",
       "\\item 8000\n",
       "\\end{enumerate*}\n"
      ],
      "text/markdown": [
       "1. 30305\n",
       "2. 8000\n",
       "\n",
       "\n"
      ],
      "text/plain": [
       "[1] 30305  8000"
      ]
     },
     "metadata": {},
     "output_type": "display_data"
    }
   ],
   "source": [
    "library(MASS)\n",
    "library(Matrix)\n",
    "library(reticulate)\n",
    "library(data.table)\n",
    "#library(readr)\n",
    "set.seed(1) \n",
    "\n",
    "np <- import(\"numpy\")\n",
    "\n",
    "# read txt\n",
    "x4 <- sample(0:82283, 30305, replace=T)\n",
    "#my_data <- read.delim(\"data/maize_282.v8.3.scATAC_ALL_CELLs.metadata_reference_fixed.txt\")\n",
    "#my_data <- my_data[c(x4),]\n",
    "#print(x4)\n",
    "#cat(x4,file=\"ran_gen_x4_num.txt\",sep=\"\\n\")\n",
    "#print(my_data[30577])\n",
    "#writeLines(my_data, \"output.txt\")\n",
    "\n",
    "y4 <- sample(0:34408, 8000, replace=T)\n",
    "\n",
    "#my_data <- read.delim(\"data/maize_282.v8.3.scATAC_ALL_CELLs.metadata_reference_fixed.txt\")\n",
    "#my_data <- my_data[c(x4),]\n",
    "#print(x4)\n",
    "\n",
    "#cat(y4,file=\"ran_gen_x4_num_row.txt\",sep=\"\\n\")\n",
    "\n",
    "#print(my_data[30577])\n",
    "#writeLines(my_data, \"output.txt\")\n",
    "\n",
    "#print(my_data)\n",
    "#write(my_data, file = \"data/maize_282.v8.3.scATAC_ALL_CELLs.metadata_reference_fixed_random.txt\")\n",
    "#cat(my_data, sep = \"\\n\", file = \"data/maize_282.v8.3.scATAC_ALL_CELLs.metadata_reference_fixed_random.txt\")\n",
    "# read rds \n",
    "sce_10xPBMC_atac <- readRDS(\"data/scATAC.raw.sparse_referenced.rds\")\n",
    "sce_10xPBMC_rna <- readRDS(\"data/snRNA.raw.sparse_right_path.rds\")\n",
    "common_genes <- intersect(rownames(sce_10xPBMC_atac),\n",
    "                          rownames(sce_10xPBMC_rna))\n",
    "length(common_genes)\n",
    "# normalize and log transform counts\n",
    "#x4 <- sample(0:82283, 30305, replace=T)\n",
    "#norm.cnts[norm.cnts$fct %in% vc,]\n",
    "#sce_10xPBMC_rna <- sce_10xPBMC_rna[c(y4),]\n",
    "norm.cnts <- log1p((sce_10xPBMC_rna[common_genes, ]) %*% Diagonal(x=1e4/Matrix::colSums(sce_10xPBMC_rna[common_genes, ])))\n",
    "#csc_matrix <- r_to_py(norm.cnts)\n",
    "norm.cnts <- t(norm.cnts)\n",
    "norm.cnts <- norm.cnts[, c(y4)]\n",
    "dim(norm.cnts)\n",
    "#dim(norm.cnts)\n",
    "#np$save(\"sce_10xPBMC_rna_skip_referenced_random__new_corrected_features.npy\", norm.cnts)\n",
    "\n",
    "#print(x4)"
   ]
  },
  {
   "cell_type": "code",
   "execution_count": 2,
   "id": "91168a6c",
   "metadata": {},
   "outputs": [
    {
     "name": "stderr",
     "output_type": "stream",
     "text": [
      "Loading required package: SummarizedExperiment\n",
      "\n",
      "Loading required package: MatrixGenerics\n",
      "\n",
      "Loading required package: matrixStats\n",
      "\n",
      "\n",
      "Attaching package: 'MatrixGenerics'\n",
      "\n",
      "\n",
      "The following objects are masked from 'package:matrixStats':\n",
      "\n",
      "    colAlls, colAnyNAs, colAnys, colAvgsPerRowSet, colCollapse,\n",
      "    colCounts, colCummaxs, colCummins, colCumprods, colCumsums,\n",
      "    colDiffs, colIQRDiffs, colIQRs, colLogSumExps, colMadDiffs,\n",
      "    colMads, colMaxs, colMeans2, colMedians, colMins, colOrderStats,\n",
      "    colProds, colQuantiles, colRanges, colRanks, colSdDiffs, colSds,\n",
      "    colSums2, colTabulates, colVarDiffs, colVars, colWeightedMads,\n",
      "    colWeightedMeans, colWeightedMedians, colWeightedSds,\n",
      "    colWeightedVars, rowAlls, rowAnyNAs, rowAnys, rowAvgsPerColSet,\n",
      "    rowCollapse, rowCounts, rowCummaxs, rowCummins, rowCumprods,\n",
      "    rowCumsums, rowDiffs, rowIQRDiffs, rowIQRs, rowLogSumExps,\n",
      "    rowMadDiffs, rowMads, rowMaxs, rowMeans2, rowMedians, rowMins,\n",
      "    rowOrderStats, rowProds, rowQuantiles, rowRanges, rowRanks,\n",
      "    rowSdDiffs, rowSds, rowSums2, rowTabulates, rowVarDiffs, rowVars,\n",
      "    rowWeightedMads, rowWeightedMeans, rowWeightedMedians,\n",
      "    rowWeightedSds, rowWeightedVars\n",
      "\n",
      "\n",
      "Loading required package: GenomicRanges\n",
      "\n",
      "Loading required package: stats4\n",
      "\n",
      "Loading required package: BiocGenerics\n",
      "\n",
      "\n",
      "Attaching package: 'BiocGenerics'\n",
      "\n",
      "\n",
      "The following objects are masked from 'package:stats':\n",
      "\n",
      "    IQR, mad, sd, var, xtabs\n",
      "\n",
      "\n",
      "The following objects are masked from 'package:base':\n",
      "\n",
      "    Filter, Find, Map, Position, Reduce, anyDuplicated, append,\n",
      "    as.data.frame, basename, cbind, colnames, dirname, do.call,\n",
      "    duplicated, eval, evalq, get, grep, grepl, intersect, is.unsorted,\n",
      "    lapply, mapply, match, mget, order, paste, pmax, pmax.int, pmin,\n",
      "    pmin.int, rank, rbind, rownames, sapply, setdiff, sort, table,\n",
      "    tapply, union, unique, unsplit, which.max, which.min\n",
      "\n",
      "\n",
      "Loading required package: S4Vectors\n",
      "\n",
      "\n",
      "Attaching package: 'S4Vectors'\n",
      "\n",
      "\n",
      "The following objects are masked from 'package:data.table':\n",
      "\n",
      "    first, second\n",
      "\n",
      "\n",
      "The following objects are masked from 'package:Matrix':\n",
      "\n",
      "    expand, unname\n",
      "\n",
      "\n",
      "The following objects are masked from 'package:base':\n",
      "\n",
      "    I, expand.grid, unname\n",
      "\n",
      "\n",
      "Loading required package: IRanges\n",
      "\n",
      "\n",
      "Attaching package: 'IRanges'\n",
      "\n",
      "\n",
      "The following object is masked from 'package:data.table':\n",
      "\n",
      "    shift\n",
      "\n",
      "\n",
      "Loading required package: GenomeInfoDb\n",
      "\n",
      "Loading required package: Biobase\n",
      "\n",
      "Welcome to Bioconductor\n",
      "\n",
      "    Vignettes contain introductory material; view with\n",
      "    'browseVignettes()'. To cite Bioconductor, see\n",
      "    'citation(\"Biobase\")', and for packages 'citation(\"pkgname\")'.\n",
      "\n",
      "\n",
      "\n",
      "Attaching package: 'Biobase'\n",
      "\n",
      "\n",
      "The following object is masked from 'package:MatrixGenerics':\n",
      "\n",
      "    rowMedians\n",
      "\n",
      "\n",
      "The following objects are masked from 'package:matrixStats':\n",
      "\n",
      "    anyMissing, rowMedians\n",
      "\n",
      "\n",
      "Loading required package: scuttle\n",
      "\n",
      "Loading required package: ggplot2\n",
      "\n"
     ]
    }
   ],
   "source": [
    "library(SingleCellExperiment)\n",
    "library(DropletUtils)\n",
    "library(scater)\n",
    "library(ggplot2)"
   ]
  },
  {
   "cell_type": "code",
   "execution_count": 3,
   "id": "ff2222ac",
   "metadata": {},
   "outputs": [],
   "source": [
    "my_data = read.table(\"data/maize_leaf_harmony_integrated.v3.subLEIDEN.metadata.txt\")\n",
    "meta_data.matrix <- as.matrix(my_data)\n",
    "#print(dim(meta_data.matrix))\n",
    "\n",
    "\n"
   ]
  },
  {
   "cell_type": "code",
   "execution_count": 5,
   "id": "d42b4589",
   "metadata": {},
   "outputs": [
    {
     "ename": "ERROR",
     "evalue": "Error in eval(expr, envir, enclos): object 'cell_type_label' not found\n",
     "output_type": "error",
     "traceback": [
      "Error in eval(expr, envir, enclos): object 'cell_type_label' not found\nTraceback:\n"
     ]
    }
   ],
   "source": [
    "dim(cell_type_label)"
   ]
  },
  {
   "cell_type": "code",
   "execution_count": 4,
   "id": "9b96b6a2",
   "metadata": {},
   "outputs": [],
   "source": [
    "norm.cnts <- log1p(sce_10xPBMC_rna %*% Diagonal(x=1e4/Matrix::colSums(sce_10xPBMC_rna)))\n",
    "cell_type_label <- meta_data.matrix[, c(\"celltype_full\")]\n",
    "#cell_type_label <- cell_type_label[c(y4),]\n",
    "#pretend.cell.labels <- sample(cell_type_label, ncol(scRNA_ours), replace=TRUE)\n",
    "#b <- SingleCellExperiment(list(counts=scRNA_ours, logcounts=norm.cnts), colData=DataFrame(cell_type=V))"
   ]
  },
  {
   "cell_type": "code",
   "execution_count": 5,
   "id": "0fe928bc",
   "metadata": {},
   "outputs": [],
   "source": [
    "V <- as.list(as.data.frame(cell_type_label))"
   ]
  },
  {
   "cell_type": "code",
   "execution_count": null,
   "id": "b2aa71db",
   "metadata": {},
   "outputs": [],
   "source": [
    "print(dim(sce_10xPBMC_rna))"
   ]
  },
  {
   "cell_type": "code",
   "execution_count": null,
   "id": "18db9c83",
   "metadata": {},
   "outputs": [],
   "source": [
    "print(b)"
   ]
  },
  {
   "cell_type": "code",
   "execution_count": 6,
   "id": "8e220241",
   "metadata": {},
   "outputs": [],
   "source": [
    "b <- SingleCellExperiment(list(counts=sce_10xPBMC_rna, logcounts=norm.cnts), colData=DataFrame(cell_type=V))"
   ]
  },
  {
   "cell_type": "code",
   "execution_count": null,
   "id": "ff7d9e6b",
   "metadata": {},
   "outputs": [],
   "source": [
    "pca_data <- prcomp(logcounts(b), rank=50)"
   ]
  },
  {
   "cell_type": "code",
   "execution_count": null,
   "id": "c184df54",
   "metadata": {},
   "outputs": [],
   "source": [
    "library(Rtsne)\n",
    "set.seed(5252)\n",
    "tsne_data <- Rtsne(pca_data$x[,1:50], pca = FALSE)\n",
    "\n",
    "reducedDims(b) <- list(PCA=pca_data$x, TSNE=tsne_data$Y)"
   ]
  },
  {
   "cell_type": "code",
   "execution_count": 28,
   "id": "52797283",
   "metadata": {},
   "outputs": [
    {
     "ename": "ERROR",
     "evalue": "Error in (function (classes, fdef, mtable) : unable to find an inherited method for function 'reducedDim' for signature '\"dgCMatrix\", \"character\"'\n",
     "output_type": "error",
     "traceback": [
      "Error in (function (classes, fdef, mtable) : unable to find an inherited method for function 'reducedDim' for signature '\"dgCMatrix\", \"character\"'\nTraceback:\n",
      "1. plotTSNE(sce_10xPBMC_rna, colour_by = \"cellTypes\")",
      "2. plotReducedDim(object, ncomponents = ncomponents, dimred = \"TSNE\", \n .     ...)",
      "3. as.matrix(reducedDim(object, dimred))",
      "4. reducedDim(object, dimred)",
      "5. (function (classes, fdef, mtable) \n . {\n .     methods <- .findInheritedMethods(classes, fdef, mtable)\n .     if (length(methods) == 1L) \n .         return(methods[[1L]])\n .     else if (length(methods) == 0L) {\n .         cnames <- paste0(\"\\\"\", vapply(classes, as.character, \n .             \"\"), \"\\\"\", collapse = \", \")\n .         stop(gettextf(\"unable to find an inherited method for function %s for signature %s\", \n .             sQuote(fdef@generic), sQuote(cnames)), domain = NA)\n .     }\n .     else stop(\"Internal error in finding inherited methods; didn't return a unique method\", \n .         domain = NA)\n . })(list(structure(\"dgCMatrix\", package = \"Matrix\"), \"character\"), \n .     new(\"standardGeneric\", .Data = function (x, type, ...) \n .     standardGeneric(\"reducedDim\"), generic = structure(\"reducedDim\", package = \"SingleCellExperiment\"), \n .         package = \"SingleCellExperiment\", group = list(), valueClass = character(0), \n .         signature = c(\"x\", \"type\"), default = NULL, skeleton = (function (x, \n .             type, ...) \n .         stop(gettextf(\"invalid call in method dispatch to '%s' (no default method)\", \n .             \"reducedDim\"), domain = NA))(x, type, ...)), <environment>)",
      "6. stop(gettextf(\"unable to find an inherited method for function %s for signature %s\", \n .     sQuote(fdef@generic), sQuote(cnames)), domain = NA)"
     ]
    }
   ],
   "source": [
    "plotTSNE(sce_10xPBMC_rna, colour_by = \"cellTypes\") + theme(aspect.ratio = 1)\n"
   ]
  },
  {
   "cell_type": "code",
   "execution_count": null,
   "id": "6b98b687",
   "metadata": {},
   "outputs": [],
   "source": []
  }
 ],
 "metadata": {
  "kernelspec": {
   "display_name": "R",
   "language": "R",
   "name": "ir"
  },
  "language_info": {
   "codemirror_mode": "r",
   "file_extension": ".r",
   "mimetype": "text/x-r-source",
   "name": "R",
   "pygments_lexer": "r",
   "version": "4.2.1"
  }
 },
 "nbformat": 4,
 "nbformat_minor": 5
}
